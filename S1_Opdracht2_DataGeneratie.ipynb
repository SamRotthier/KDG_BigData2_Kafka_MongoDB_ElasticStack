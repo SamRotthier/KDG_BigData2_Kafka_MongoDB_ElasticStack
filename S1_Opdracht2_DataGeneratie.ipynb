{
 "cells": [
  {
   "metadata": {},
   "cell_type": "markdown",
   "source": [
    "select r.rideid,r.starttime, r.endtime, r.startpoint, r.endpoint,\n",
    "       v.vehicleid, v.serialnumber, v.position,\n",
    "       u.userid, u.name, u.email,u.country_code, u.city, u.zipcode, u.street, u.number\n",
    "from rides r\n",
    "join locks l on l.vehicleid = r.vehicleid\n",
    "join vehicles v on v.lockid = l.lockid\n",
    "join subscriptions s on s.subscriptionid = r.subscriptionid\n",
    "join velo_users u on u.userid = s.userid"
   ],
   "id": "e0cc0cba074a1b81"
  },
  {
   "metadata": {},
   "cell_type": "markdown",
   "source": "",
   "id": "46f550fe5f491334"
  },
  {
   "cell_type": "code",
   "id": "initial_id",
   "metadata": {
    "collapsed": true,
    "ExecuteTime": {
     "end_time": "2025-05-01T15:46:13.477480Z",
     "start_time": "2025-05-01T15:46:13.433965Z"
    }
   },
   "source": [
    "from pyspark.sql import SparkSession\n",
    "from delta import configure_spark_with_delta_pip\n",
    "import ConnectionConfig as cc\n",
    "cc.setupEnvironment()\n",
    "spark = cc.startLocalCluster(\"VELO_JSON_DATA_GENERATION\")\n",
    "spark.getActiveSession()"
   ],
   "outputs": [
    {
     "data": {
      "text/plain": [
       "<pyspark.sql.session.SparkSession at 0x1a499175410>"
      ],
      "text/html": [
       "\n",
       "            <div>\n",
       "                <p><b>SparkSession - in-memory</b></p>\n",
       "                \n",
       "        <div>\n",
       "            <p><b>SparkContext</b></p>\n",
       "\n",
       "            <p><a href=\"http://127.0.0.1:4040\">Spark UI</a></p>\n",
       "\n",
       "            <dl>\n",
       "              <dt>Version</dt>\n",
       "                <dd><code>v3.5.2</code></dd>\n",
       "              <dt>Master</dt>\n",
       "                <dd><code>local[*]</code></dd>\n",
       "              <dt>AppName</dt>\n",
       "                <dd><code>VELO_JSON_DATA_GENERATION</code></dd>\n",
       "            </dl>\n",
       "        </div>\n",
       "        \n",
       "            </div>\n",
       "        "
      ]
     },
     "execution_count": 12,
     "metadata": {},
     "output_type": "execute_result"
    }
   ],
   "execution_count": 12
  },
  {
   "metadata": {},
   "cell_type": "markdown",
   "source": "",
   "id": "f19f099958b72053"
  },
  {
   "metadata": {
    "ExecuteTime": {
     "end_time": "2025-05-01T15:46:22.884110Z",
     "start_time": "2025-05-01T15:46:20.902020Z"
    }
   },
   "cell_type": "code",
   "source": [
    "#Extract\n",
    "cc.set_connectionProfile(\"VeloDB\")\n",
    "\n",
    "df_ride = spark.read \\\n",
    "    .format(\"jdbc\") \\\n",
    "    .option(\"driver\" , cc.get_Property(\"driver\")) \\\n",
    "    .option(\"url\", cc.create_jdbc()) \\\n",
    "    .option(\"dbtable\", \"rides\") \\\n",
    "    .option(\"user\", cc.get_Property(\"username\")) \\\n",
    "    .option(\"password\", cc.get_Property(\"password\")) \\\n",
    "    .option(\"partitionColumn\", \"rideid\") \\\n",
    "    .option(\"numPartitions\", 4) \\\n",
    "    .option(\"lowerBound\", 0) \\\n",
    "    .option(\"upperBound\", 4500000) \\\n",
    "    .load()\n",
    "\n",
    "df_lock = spark.read \\\n",
    "    .format(\"jdbc\") \\\n",
    "    .option(\"driver\" , cc.get_Property(\"driver\")) \\\n",
    "    .option(\"url\", cc.create_jdbc()) \\\n",
    "    .option(\"dbtable\", \"locks\") \\\n",
    "    .option(\"user\", cc.get_Property(\"username\")) \\\n",
    "    .option(\"password\", cc.get_Property(\"password\")) \\\n",
    "    .option(\"partitionColumn\", \"lockid\") \\\n",
    "    .option(\"numPartitions\", 4) \\\n",
    "    .option(\"lowerBound\", 0) \\\n",
    "    .option(\"upperBound\", 7600) \\\n",
    "    .load()\n",
    "\n",
    "df_vehicle = spark.read \\\n",
    "    .format(\"jdbc\") \\\n",
    "    .option(\"driver\" , cc.get_Property(\"driver\")) \\\n",
    "    .option(\"url\", cc.create_jdbc()) \\\n",
    "    .option(\"dbtable\", \"vehicles\") \\\n",
    "    .option(\"user\", cc.get_Property(\"username\")) \\\n",
    "    .option(\"password\", cc.get_Property(\"password\")) \\\n",
    "    .option(\"partitionColumn\", \"vehicleid\") \\\n",
    "    .option(\"numPartitions\", 4) \\\n",
    "    .option(\"lowerBound\", 0) \\\n",
    "    .option(\"upperBound\", 7000) \\\n",
    "    .load()\n",
    "\n",
    "df_subscription = spark.read \\\n",
    "    .format(\"jdbc\") \\\n",
    "    .option(\"driver\" , cc.get_Property(\"driver\")) \\\n",
    "    .option(\"url\", cc.create_jdbc()) \\\n",
    "    .option(\"dbtable\", \"Subscriptions\") \\\n",
    "    .option(\"user\", cc.get_Property(\"username\")) \\\n",
    "    .option(\"password\", cc.get_Property(\"password\")) \\\n",
    "    .option(\"partitionColumn\", \"userid\") \\\n",
    "    .option(\"numPartitions\", 4) \\\n",
    "    .option(\"lowerBound\", 0) \\\n",
    "    .option(\"upperBound\", 80000) \\\n",
    "    .load()\n",
    "\n",
    "df_user = spark.read \\\n",
    "    .format(\"jdbc\") \\\n",
    "    .option(\"driver\" , cc.get_Property(\"driver\")) \\\n",
    "    .option(\"url\", cc.create_jdbc()) \\\n",
    "    .option(\"dbtable\", \"velo_users\") \\\n",
    "    .option(\"user\", cc.get_Property(\"username\")) \\\n",
    "    .option(\"password\", cc.get_Property(\"password\")) \\\n",
    "    .option(\"partitionColumn\", \"userid\") \\\n",
    "    .option(\"numPartitions\", 4) \\\n",
    "    .option(\"lowerBound\", 0) \\\n",
    "    .option(\"upperBound\", 60000) \\\n",
    "    .load()\n",
    "\n",
    "df_ride.show(5)\n",
    "df_lock.show(5)\n",
    "df_vehicle.show(5)\n",
    "df_user.show(5)\n",
    "df_subscription.show(5)\n",
    "\n"
   ],
   "id": "870bf422a6ef1f7d",
   "outputs": [
    {
     "name": "stdout",
     "output_type": "stream",
     "text": [
      "+------+-----------------+-----------------+-------------------+-------------------+---------+--------------+-----------+---------+\n",
      "|rideid|       startpoint|         endpoint|          starttime|            endtime|vehicleid|subscriptionid|startlockid|endlockid|\n",
      "+------+-----------------+-----------------+-------------------+-------------------+---------+--------------+-----------+---------+\n",
      "|     1|(51.2083,4.44595)|(51.1938,4.40228)|2015-09-22 00:00:00|2012-09-22 00:00:00|      844|         13296|       4849|     3188|\n",
      "|     2|(51.2174,4.41597)|(51.2188,4.40935)|2015-09-22 00:00:00|2012-09-22 00:00:00|     4545|         45924|       NULL|     NULL|\n",
      "|     3|(51.2088,4.40834)|(51.2077,4.39846)|2015-09-22 00:00:00|2012-09-22 00:00:00|     3419|         25722|       2046|     1951|\n",
      "|     4|(51.2023,4.41208)|(51.2119,4.39894)|2015-09-22 00:00:00|2012-09-22 00:00:00|     1208|         31000|       1821|     2186|\n",
      "|     5|(51.1888,4.45039)|(51.2221,4.40467)|2015-09-22 00:00:00|2012-09-22 00:00:00|     5536|         59732|       6382|     2700|\n",
      "+------+-----------------+-----------------+-------------------+-------------------+---------+--------------+-----------+---------+\n",
      "only showing top 5 rows\n",
      "\n",
      "+------+-------------+---------+---------+\n",
      "|lockid|stationlocknr|stationid|vehicleid|\n",
      "+------+-------------+---------+---------+\n",
      "|     1|            1|        1|     NULL|\n",
      "|     2|            2|        1|     NULL|\n",
      "|     3|            3|        1|     NULL|\n",
      "|     4|            4|        1|     NULL|\n",
      "|     5|            5|        1|     NULL|\n",
      "+------+-------------+---------+---------+\n",
      "only showing top 5 rows\n",
      "\n",
      "+---------+------------+---------+-------------------+------+-----------------+\n",
      "|vehicleid|serialnumber|bikelotid|  lastmaintenanceon|lockid|         position|\n",
      "+---------+------------+---------+-------------------+------+-----------------+\n",
      "|        1|        1000|        1|2020-01-19 02:14:57|  NULL|(51.1968,4.40579)|\n",
      "|        2|        2000|        1|2020-03-08 01:49:24|  NULL|(51.2177,4.42075)|\n",
      "|        3|        3000|        1|2020-06-01 12:37:26|  1568|(51.1926,4.42151)|\n",
      "|        4|        4000|        1|2020-02-27 03:13:56|  NULL|(51.2311,4.41267)|\n",
      "|        5|        5000|        1|2021-03-21 03:38:31|  NULL|(51.2177,4.42075)|\n",
      "+---------+------------+---------+-------------------+------+-----------------+\n",
      "only showing top 5 rows\n",
      "\n",
      "+------+-----------------+--------------------+--------------------+--------+-------+-------------------+------------+\n",
      "|userid|             name|               email|              street|  number|zipcode|               city|country_code|\n",
      "+------+-----------------+--------------------+--------------------+--------+-------+-------------------+------------+\n",
      "|     2|van der Zee Julia|Julia.van.der.Zee...|          Europalaan|     42 |   2610|Wilrijk (Antwerpen)|          BE|\n",
      "|     3|  de Boer Ricardo|Ricardo.de.Boer@g...|   Maria Clarastraat|    81  |   2160|          Wommelgem|          BE|\n",
      "|     4|   Willems Angela|Angela.Willems@te...|Graaf Joseph de P...|     16 |   2900|            Schoten|          BE|\n",
      "|     5| Heijnen Patricia|Patricia.Heijnen@...|          Meylstraat|    112 |   2540|               Hove|          BE|\n",
      "|     6|   Driessen Anouk|Anouk.Driessen@sc...|   Jan Ockegemstraat|168 0107|   2650|             Edegem|          BE|\n",
      "+------+-----------------+--------------------+--------------------+--------+-------+-------------------+------------+\n",
      "only showing top 5 rows\n",
      "\n",
      "+--------------+----------+------------------+------+\n",
      "|subscriptionid| validfrom|subscriptiontypeid|userid|\n",
      "+--------------+----------+------------------+------+\n",
      "|             1|2019-08-02|                 3|     1|\n",
      "|             2|2019-11-12|                 1|     1|\n",
      "|             3|2020-12-14|                 1|     1|\n",
      "|             4|2021-10-05|                 2|     2|\n",
      "|             5|2022-09-17|                 3|     3|\n",
      "+--------------+----------+------------------+------+\n",
      "only showing top 5 rows\n",
      "\n"
     ]
    }
   ],
   "execution_count": 13
  },
  {
   "metadata": {
    "ExecuteTime": {
     "end_time": "2025-05-01T15:46:39.952850Z",
     "start_time": "2025-05-01T15:46:35.545924Z"
    }
   },
   "cell_type": "code",
   "source": [
    "#Transform\n",
    "df_ride.createOrReplaceTempView(\"source_Ride\")\n",
    "df_lock.createOrReplaceTempView(\"source_Lock\")\n",
    "df_vehicle.createOrReplaceTempView(\"source_Vehicle\")\n",
    "df_subscription.createOrReplaceTempView(\"source_Subscription\")\n",
    "df_user.createOrReplaceTempView(\"source_User\")\n",
    "\n",
    "df_dim_ride = spark.sql(f\"select r.rideid,r.starttime, r.endtime, r.startpoint, r.endpoint, \\\n",
    "       v.vehicleid, v.serialnumber, v.position, \\\n",
    "       u.userid, u.name, u.email,u.country_code, u.city, u.zipcode, u.street, u.number \\\n",
    "from source_Ride as r \\\n",
    "join source_Lock as l on l.vehicleid = r.vehicleid \\\n",
    "join source_Vehicle as v on v.lockid = l.lockid \\\n",
    "join source_Subscription as s on s.subscriptionid = r.subscriptionid \\\n",
    "join source_User as u on u.userid = s.userid\")\n",
    "\n",
    "df_dim_ride.show()"
   ],
   "id": "aad0a0e23cf97cae",
   "outputs": [
    {
     "name": "stdout",
     "output_type": "stream",
     "text": [
      "+-------+-------------------+-------------------+-----------------+-----------------+---------+------------+-----------------+------+------------+--------------------+------------+--------------------+-------+-----------+-------+\n",
      "| rideid|          starttime|            endtime|       startpoint|         endpoint|vehicleid|serialnumber|         position|userid|        name|               email|country_code|                city|zipcode|     street| number|\n",
      "+-------+-------------------+-------------------+-----------------+-----------------+---------+------------+-----------------+------+------------+--------------------+------------+--------------------+-------+-----------+-------+\n",
      "| 920223|2020-08-08 22:08:16|2020-08-08 22:10:01|(51.2282,4.41337)|(51.2219,4.41289)|     3455|     3455000| (51.1975,4.4596)|    12|Simons Thijs|Thijs.Simons@outl...|          BE|Antwerpen/Berendr...|   2040|Bergenhoeve|81 0302|\n",
      "|1007930|2020-09-08 10:31:05|2020-09-08 10:50:26|(51.2158,4.40314)| (51.216,4.44568)|      833|      833000|(51.1933,4.43703)|    12|Simons Thijs|Thijs.Simons@outl...|          BE|Antwerpen/Berendr...|   2040|Bergenhoeve|81 0302|\n",
      "|1015960|2020-09-09 17:52:43|2020-09-09 18:01:02| (51.213,4.42176)|(51.2314,4.40357)|     1627|     1627000|(51.2187,4.40066)|    12|Simons Thijs|Thijs.Simons@outl...|          BE|Antwerpen/Berendr...|   2040|Bergenhoeve|81 0302|\n",
      "|1049100|2020-09-26 17:02:08|2020-09-26 17:14:27| (51.2254,4.4184)|(51.2047,4.38766)|     1593|     1593000|(51.2199,4.36992)|    12|Simons Thijs|Thijs.Simons@outl...|          BE|Antwerpen/Berendr...|   2040|Bergenhoeve|81 0302|\n",
      "|1005176|2020-09-07 17:04:29|2020-09-07 17:07:40| (51.211,4.39035)| (51.2033,4.3889)|     1717|     1717000|(51.1941,4.39304)|    12|Simons Thijs|Thijs.Simons@outl...|          BE|Antwerpen/Berendr...|   2040|Bergenhoeve|81 0302|\n",
      "|1097154|2020-10-08 18:48:44|2020-10-08 18:50:16|(51.2008,4.39808)| (51.1984,4.4022)|     2566|     2566000|(51.2215,4.40869)|    12|Simons Thijs|Thijs.Simons@outl...|          BE|Antwerpen/Berendr...|   2040|Bergenhoeve|81 0302|\n",
      "| 931392|2020-08-07 07:19:44|2020-08-07 07:46:23|(51.2292,4.46783)|(51.2088,4.38734)|     5284|     5284000|(51.2313,4.39162)|    12|Simons Thijs|Thijs.Simons@outl...|          BE|Antwerpen/Berendr...|   2040|Bergenhoeve|81 0302|\n",
      "| 944431|2020-08-16 18:04:14|2020-08-16 18:08:40| (51.213,4.42176)|(51.2261,4.42638)|     5449|     5449000| (51.179,4.39048)|    12|Simons Thijs|Thijs.Simons@outl...|          BE|Antwerpen/Berendr...|   2040|Bergenhoeve|81 0302|\n",
      "| 973033|2020-08-28 06:59:29|2020-08-28 07:05:57| (51.2191,4.3949)|(51.2333,4.41391)|     3485|     3485000|(51.2078,4.46528)|    12|Simons Thijs|Thijs.Simons@outl...|          BE|Antwerpen/Berendr...|   2040|Bergenhoeve|81 0302|\n",
      "| 991281|2020-09-03 08:50:04|2020-09-03 08:56:37|   (51.25,4.4209)|(51.2282,4.41337)|     5327|     5327000|(51.2243,4.39907)|    12|Simons Thijs|Thijs.Simons@outl...|          BE|Antwerpen/Berendr...|   2040|Bergenhoeve|81 0302|\n",
      "| 991624|2020-09-05 10:13:29|2020-09-05 10:33:35| (51.1762,4.3677)|(51.2215,4.40869)|      131|      131000|(51.2318,4.42699)|    12|Simons Thijs|Thijs.Simons@outl...|          BE|Antwerpen/Berendr...|   2040|Bergenhoeve|81 0302|\n",
      "|1400477|2021-01-30 14:38:08|2021-01-30 15:01:27|(51.2141,4.39792)|(51.2564,4.44715)|     1627|     1627000|(51.2187,4.40066)|    12|Simons Thijs|Thijs.Simons@outl...|          BE|Antwerpen/Berendr...|   2040|Bergenhoeve|81 0302|\n",
      "|1732982|2021-05-19 19:17:57|2021-05-19 19:30:54|(51.1938,4.40228)|(51.2201,4.43269)|     5616|     5616000|(51.2288,4.47866)|    12|Simons Thijs|Thijs.Simons@outl...|          BE|Antwerpen/Berendr...|   2040|Bergenhoeve|81 0302|\n",
      "|1736420|2021-05-21 13:59:45|2021-05-21 14:14:31| (51.1913,4.4436)| (51.2033,4.3889)|     3774|     3774000|(51.2545,4.45469)|    12|Simons Thijs|Thijs.Simons@outl...|          BE|Antwerpen/Berendr...|   2040|Bergenhoeve|81 0302|\n",
      "|1744466|2021-05-24 12:22:54|2021-05-24 12:43:13|(51.2088,4.38734)|(51.1888,4.45039)|      447|      447000|(51.1807,4.40899)|    12|Simons Thijs|Thijs.Simons@outl...|          BE|Antwerpen/Berendr...|   2040|Bergenhoeve|81 0302|\n",
      "|1778677|2021-06-05 08:19:24|2021-06-05 08:31:29|(51.2609,4.42039)| (51.228,4.41899)|      605|      605000| (51.2216,4.4005)|    12|Simons Thijs|Thijs.Simons@outl...|          BE|Antwerpen/Berendr...|   2040|Bergenhoeve|81 0302|\n",
      "|1850772|2021-06-27 16:03:47|2021-06-27 16:07:57|(51.2016,4.42358)|(51.2101,4.41739)|     3625|     3625000|(51.2171,4.40888)|    12|Simons Thijs|Thijs.Simons@outl...|          BE|Antwerpen/Berendr...|   2040|Bergenhoeve|81 0302|\n",
      "|1866576|2021-07-03 21:53:06|2021-07-03 22:08:19| (51.228,4.41899)| (51.2033,4.3889)|      581|      581000|(51.2171,4.39924)|    12|Simons Thijs|Thijs.Simons@outl...|          BE|Antwerpen/Berendr...|   2040|Bergenhoeve|81 0302|\n",
      "|2070514|2021-09-12 15:09:30|2021-09-12 15:35:28|(51.2261,4.42638)|(51.1817,4.37203)|     5507|     5507000|(51.1886,4.42959)|    12|Simons Thijs|Thijs.Simons@outl...|          BE|Antwerpen/Berendr...|   2040|Bergenhoeve|81 0302|\n",
      "|2155952|2021-10-11 17:43:03|2021-10-11 17:45:20|(51.2281,4.41173)| (51.2254,4.4184)|     1709|     1709000|(51.2204,4.37858)|    12|Simons Thijs|Thijs.Simons@outl...|          BE|Antwerpen/Berendr...|   2040|Bergenhoeve|81 0302|\n",
      "+-------+-------------------+-------------------+-----------------+-----------------+---------+------------+-----------------+------+------------+--------------------+------------+--------------------+-------+-----------+-------+\n",
      "only showing top 20 rows\n",
      "\n"
     ]
    }
   ],
   "execution_count": 14
  },
  {
   "metadata": {
    "ExecuteTime": {
     "end_time": "2025-05-01T15:48:01.135035Z",
     "start_time": "2025-05-01T15:47:54.953550Z"
    }
   },
   "cell_type": "code",
   "source": "df_dim_ride.write.mode(\"overwrite\").json(\"./Opdracht2_DataGeneratieJson\")",
   "id": "3ff51cd545c2e1fd",
   "outputs": [],
   "execution_count": 16
  }
 ],
 "metadata": {
  "kernelspec": {
   "display_name": "Python 3",
   "language": "python",
   "name": "python3"
  },
  "language_info": {
   "codemirror_mode": {
    "name": "ipython",
    "version": 2
   },
   "file_extension": ".py",
   "mimetype": "text/x-python",
   "name": "python",
   "nbconvert_exporter": "python",
   "pygments_lexer": "ipython2",
   "version": "2.7.6"
  }
 },
 "nbformat": 4,
 "nbformat_minor": 5
}
